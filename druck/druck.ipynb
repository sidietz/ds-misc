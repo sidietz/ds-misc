{
 "cells": [
  {
   "cell_type": "code",
   "execution_count": 2,
   "metadata": {},
   "outputs": [],
   "source": [
    "#import pandas as pd\n",
    "import requests as rq\n",
    "from lxml import html\n",
    "#import numpy as np\n",
    "from functools import reduce\n",
    "#from selenium import webdriver\n",
    "import re\n",
    "#import pickle\n",
    "import youtube_dl\n",
    "from datetime import datetime\n",
    "import csv"
   ]
  },
  {
   "cell_type": "code",
   "execution_count": 3,
   "metadata": {},
   "outputs": [],
   "source": [
    "PLAYLIST_ID = \"UUr5zglOqHZAEfCcAx_nw1dQ\""
   ]
  },
  {
   "cell_type": "code",
   "execution_count": 4,
   "metadata": {},
   "outputs": [],
   "source": [
    "def call_ytd(playlist_id):\n",
    "\n",
    "    with youtube_dl.YoutubeDL({'ignoreerrors': True, 'playlistend': 3}) as ydl:\n",
    "    # with youtube_dl.YoutubeDL({'ignoreerrors': True}) as ydl:\n",
    "\n",
    "        playd = ydl.extract_info(playlist_id, download=False)\n",
    "\n",
    "        #with open('playlist.pickle', 'wb') as f:\n",
    "        #    pickle.dump(playd, f, pickle.HIGHEST_PROTOCOL)\n",
    "\n",
    "        vids = [vid for vid in playd['entries'] if 1 == 1]\n",
    "    return vids\n",
    "    # print(sum('Trump' in vid['title'] for vid in vids), '/', 3)"
   ]
  },
  {
   "cell_type": "code",
   "execution_count": 5,
   "metadata": {},
   "outputs": [],
   "source": [
    "#browser = webdriver.Firefox()"
   ]
  },
  {
   "cell_type": "code",
   "execution_count": 6,
   "metadata": {},
   "outputs": [],
   "source": [
    "# urls, vids = call_ytd(PLAYLIST_ID)"
   ]
  },
  {
   "cell_type": "code",
   "execution_count": 7,
   "metadata": {},
   "outputs": [],
   "source": [
    "# vids[0]"
   ]
  },
  {
   "cell_type": "code",
   "execution_count": 8,
   "metadata": {},
   "outputs": [
    {
     "data": {
      "text/plain": [
       "\"zb = 'Mach mit ihr Schluss!!! 💔- DRUCK -\\xa0Folge 13'\\nzz = 'Die schönste Frau der Welt\\xa0💋-\\xa0DRUCK - Folge 14'\\n'Wie lang stehst du schon da? 🥤- DRUCK - 65'\\n\""
      ]
     },
     "execution_count": 8,
     "metadata": {},
     "output_type": "execute_result"
    }
   ],
   "source": [
    "'''zb = 'Mach mit ihr Schluss!!! 💔- DRUCK -\\xa0Folge 13'\n",
    "zz = 'Die schönste Frau der Welt\\xa0💋-\\xa0DRUCK - Folge 14'\n",
    "'Wie lang stehst du schon da? 🥤- DRUCK - 65'\n",
    "'''"
   ]
  },
  {
   "cell_type": "code",
   "execution_count": 9,
   "metadata": {},
   "outputs": [],
   "source": [
    "stat = \"/html/body/ytd-app/div[1]/ytd-page-manager/ytd-watch-flexy/div[3]/div[1]/div/div[5]/div[2]/ytd-video-primary-info-renderer/div/yt-formatted-string/a\"\n",
    "url = \"https://www.youtube.com/watch?v=YiO-wflbYII\""
   ]
  },
  {
   "cell_type": "code",
   "execution_count": 10,
   "metadata": {},
   "outputs": [],
   "source": [
    "HEADER = {'User-Agent': 'Mozilla/5.0 (X11; Linux armv7l) AppleWebKit/537.36 (KHTML, like Gecko) Chrome/56.0.2924.84 Safari/537.36'}"
   ]
  },
  {
   "cell_type": "code",
   "execution_count": 11,
   "metadata": {},
   "outputs": [],
   "source": [
    "stats = \"/html/body/ytd-app/div[1]/ytd-page-manager/ytd-watch-flexy/div[3]/div[1]/div/div[5]/div[2]/ytd-video-primary-info-renderer/div/yt-formatted-string/a\""
   ]
  },
  {
   "cell_type": "code",
   "execution_count": 12,
   "metadata": {},
   "outputs": [],
   "source": [
    "def get_site_text(url):\n",
    "    r = rq.get(url, headers=HEADER)\n",
    "    return r.text"
   ]
  },
  {
   "cell_type": "code",
   "execution_count": 13,
   "metadata": {},
   "outputs": [],
   "source": [
    "def get_yt_text(yt):\n",
    "    url = str(\"https://www.youtube.com/watch?v=\" + yt)\n",
    "    return get_site_text(url)"
   ]
  },
  {
   "cell_type": "code",
   "execution_count": 14,
   "metadata": {},
   "outputs": [],
   "source": [
    "def get_site(url):\n",
    "    r = rq.get(url, headers=HEADER)\n",
    "    text = r.text\n",
    "    #url_string = bytes(r.text, 'iso-8859-1').decode('utf-8')\n",
    "    tree = html.document_fromstring(r.text)\n",
    "    return tree, text"
   ]
  },
  {
   "cell_type": "code",
   "execution_count": 15,
   "metadata": {},
   "outputs": [],
   "source": [
    "def filter_trend(txt):\n",
    "    match = re.search(r\"#[\\w ]*auf Trends\", txt)\n",
    "    try:\n",
    "        result = match[0]\n",
    "    except TypeError:\n",
    "        # print(txt)\n",
    "        result = \"#0 auf Trends\"\n",
    "    return result"
   ]
  },
  {
   "cell_type": "code",
   "execution_count": 16,
   "metadata": {},
   "outputs": [],
   "source": [
    "def get_trend(yt):\n",
    "    txt = get_yt_text(yt)\n",
    "    result = filter_trend(txt)\n",
    "    return result"
   ]
  },
  {
   "cell_type": "code",
   "execution_count": 17,
   "metadata": {},
   "outputs": [],
   "source": [
    "def get_rank(url):\n",
    "    t = get_trend(url)\n",
    "    return parse_trend(t)"
   ]
  },
  {
   "cell_type": "code",
   "execution_count": 18,
   "metadata": {},
   "outputs": [],
   "source": [
    "def parse_trend(trend):\n",
    "    tmp = trend.split(\" \")\n",
    "    rank = int(tmp[0][1:]) or 0\n",
    "    return rank"
   ]
  },
  {
   "cell_type": "code",
   "execution_count": 19,
   "metadata": {},
   "outputs": [],
   "source": [
    "def get_yt_info(v):\n",
    "    yid = v['id']\n",
    "    s = v['title']\n",
    "    meta =  extract_title_data(s)\n",
    "    return meta['vid'], yid, meta"
   ]
  },
  {
   "cell_type": "code",
   "execution_count": 20,
   "metadata": {},
   "outputs": [],
   "source": [
    "def match_title(s):\n",
    "    al = s.split(\" \")\n",
    "    try:\n",
    "        number = al[-1]\n",
    "        tmp = \"Clip\" if al[-2] == '' else \"Folge\"\n",
    "    except IndexError:\n",
    "        return \"Z1\", \"error\"            \n",
    "    return str(tmp[0] + number), tmp"
   ]
  },
  {
   "cell_type": "code",
   "execution_count": 21,
   "metadata": {},
   "outputs": [],
   "source": [
    "alist = \"\"\n",
    "ai = \"Wie lang stehst du schon da? 🥤- DRUCK - 65\""
   ]
  },
  {
   "cell_type": "code",
   "execution_count": 22,
   "metadata": {},
   "outputs": [],
   "source": [
    "al = [\"DRUCK - Folge 10 - Partyhelden 🚀\", \"DRUCK - Folge 9 - Abstürze ☠️\", \"DRUCK - Folge 8 - Blutige Drohung ❗\", \"DRUCK - Folge 7 - Einmal Schlampe, immer Schlampe!\"]"
   ]
  },
  {
   "cell_type": "code",
   "execution_count": 23,
   "metadata": {},
   "outputs": [],
   "source": [
    "def extract_title_data(tt):\n",
    "    try:\n",
    "        tf = tt.replace(\"DRUCK - \", \"\")\n",
    "        title, tmp = tf.rsplit(\"-\", 1)\n",
    "    except ValueError:\n",
    "        return {'title': \"Druck der Teaser\", 'vid': \"Z0\", 'kind': \"else\"}\n",
    "    try:\n",
    "        b = int(title.rsplit(\" \")[1])\n",
    "        tmp, title = title, tmp\n",
    "        aid = tmp.split(\" \")[1]\n",
    "        return {'title': title, 'vid': str('F' + aid), 'kind': \"Folge\"}\n",
    "    except:\n",
    "        pass\n",
    "    # match = re.search(r\"#[\\w ]*auf Trends\", )\n",
    "    number, kind = match_title(tmp)\n",
    "    return {'title': title, 'vid': number, 'kind': kind}"
   ]
  },
  {
   "cell_type": "code",
   "execution_count": 24,
   "metadata": {},
   "outputs": [],
   "source": [
    "def get_social_data(yt):\n",
    "    return yt['view_count'], yt['like_count'], yt['dislike_count']"
   ]
  },
  {
   "cell_type": "code",
   "execution_count": 25,
   "metadata": {},
   "outputs": [],
   "source": [
    "def get_trends(yt_list):\n",
    "    trending = []\n",
    "    druck_info = []\n",
    "    for yt in yt_list:\n",
    "        try:\n",
    "            vid, yid, meta = get_yt_info(yt)\n",
    "        except:\n",
    "            continue\n",
    "        views, likes, dislikes = get_social_data(yt)\n",
    "        rank = get_rank(yid)\n",
    "        meta['yid'] = yid\n",
    "        time = datetime.utcnow() # TODO fix if fails\n",
    "        trending.append({'vid': vid, 'rank': rank, 'views': views, 'likes': likes, 'dislikes': dislikes, 'time': time})\n",
    "        druck_info.append(meta)\n",
    "    return trending, druck_info"
   ]
  },
  {
   "cell_type": "code",
   "execution_count": 26,
   "metadata": {},
   "outputs": [],
   "source": [
    "# trending, d_info = get_trends(vids)"
   ]
  },
  {
   "cell_type": "code",
   "execution_count": 27,
   "metadata": {},
   "outputs": [],
   "source": [
    "def trending_to_csv_data(dict_list):\n",
    "    dataset = []\n",
    "    for ad in dict_list:\n",
    "        dataset.append(list(ad.values()))\n",
    "    return dataset"
   ]
  },
  {
   "cell_type": "code",
   "execution_count": 28,
   "metadata": {},
   "outputs": [],
   "source": [
    "def write_data(trending, d_info):\n",
    "    write_trending(trending)\n",
    "    if is_new(d_info):\n",
    "        write_d_info(d_info)"
   ]
  },
  {
   "cell_type": "code",
   "execution_count": 29,
   "metadata": {},
   "outputs": [],
   "source": [
    "def is_new(d_info):\n",
    "    with open(\"ids\", \"r+\") as f:\n",
    "        l = f.readlines()\n",
    "        did = l[-1]\n",
    "        did2 = d_info[0]['vid']\n",
    "        if did2 == did:\n",
    "            return False\n",
    "        else:\n",
    "            f.writelines(did2)\n",
    "            return True"
   ]
  },
  {
   "cell_type": "code",
   "execution_count": 30,
   "metadata": {},
   "outputs": [],
   "source": [
    "#is_new(d_info)"
   ]
  },
  {
   "cell_type": "code",
   "execution_count": 31,
   "metadata": {},
   "outputs": [],
   "source": [
    "# d_info"
   ]
  },
  {
   "cell_type": "code",
   "execution_count": 32,
   "metadata": {},
   "outputs": [],
   "source": [
    "#a"
   ]
  },
  {
   "cell_type": "code",
   "execution_count": 33,
   "metadata": {},
   "outputs": [],
   "source": [
    "#a"
   ]
  },
  {
   "cell_type": "code",
   "execution_count": 34,
   "metadata": {},
   "outputs": [],
   "source": [
    "#keys = list(trending[0].keys())"
   ]
  },
  {
   "cell_type": "code",
   "execution_count": 35,
   "metadata": {},
   "outputs": [],
   "source": [
    "def write_trending(trending):\n",
    "    a = list(map(lambda x: [x['vid'], x['rank'], x['views'], x['likes'], x['dislikes'], x['time']], trending))\n",
    "    with open(\"trending.csv\", 'a+') as f:\n",
    "        writer = csv.writer(f)\n",
    "        writer.writerows(a)  "
   ]
  },
  {
   "cell_type": "code",
   "execution_count": 36,
   "metadata": {},
   "outputs": [],
   "source": [
    "def write_d_info(d_info):\n",
    "    a = list(map(lambda x: [x['title'], x['vid'], x['kind'], x['yid']], d_info))\n",
    "    with open(\"druck.csv\", 'a+') as f:\n",
    "        writer = csv.writer(f)\n",
    "        writer.writerows(a)"
   ]
  },
  {
   "cell_type": "code",
   "execution_count": 37,
   "metadata": {},
   "outputs": [
    {
     "data": {
      "text/plain": [
       "\"\\ndef write_trends(trending, name):\\n    keys = trending[0].keys()\\n    with open(name, 'a+') as f:\\n        dict_writer = csv.DictWriter(f, keys)\\n        dict_writer.writerows(trending)\\n\""
      ]
     },
     "execution_count": 37,
     "metadata": {},
     "output_type": "execute_result"
    }
   ],
   "source": [
    "'''\n",
    "def write_trends(trending, name):\n",
    "    keys = trending[0].keys()\n",
    "    with open(name, 'a+') as f:\n",
    "        dict_writer = csv.DictWriter(f, keys)\n",
    "        dict_writer.writerows(trending)\n",
    "'''"
   ]
  },
  {
   "cell_type": "code",
   "execution_count": 38,
   "metadata": {},
   "outputs": [],
   "source": [
    "def do_druck():\n",
    "    vids = call_ytd(PLAYLIST_ID)\n",
    "    trending, d_info = get_trends(vids)\n",
    "    write_data(trending, d_info)\n",
    "    return "
   ]
  },
  {
   "cell_type": "code",
   "execution_count": 39,
   "metadata": {},
   "outputs": [
    {
     "name": "stdout",
     "output_type": "stream",
     "text": [
      "[youtube:playlist] UUr5zglOqHZAEfCcAx_nw1dQ: Downloading webpage\n",
      "[download] Downloading playlist: Uploads from DRUCK - Die Serie\n",
      "[youtube:playlist] playlist Uploads from DRUCK - Die Serie: Downloading 3 videos\n",
      "[download] Downloading video 1 of 3\n",
      "[youtube] 3TmdIoVuE1w: Downloading webpage\n",
      "[youtube] 3TmdIoVuE1w: Downloading video info webpage\n",
      "[download] Downloading video 2 of 3\n",
      "[youtube] Al2yXkQ3HfM: Downloading webpage\n",
      "[youtube] Al2yXkQ3HfM: Downloading video info webpage\n",
      "[download] Downloading video 3 of 3\n",
      "[youtube] YiO-wflbYII: Downloading webpage\n",
      "[youtube] YiO-wflbYII: Downloading video info webpage\n",
      "[download] Finished downloading playlist: Uploads from DRUCK - Die Serie\n"
     ]
    }
   ],
   "source": [
    "vids = call_ytd(PLAYLIST_ID)"
   ]
  },
  {
   "cell_type": "code",
   "execution_count": 40,
   "metadata": {},
   "outputs": [],
   "source": [
    "# vids[80]"
   ]
  },
  {
   "cell_type": "code",
   "execution_count": null,
   "metadata": {},
   "outputs": [],
   "source": []
  },
  {
   "cell_type": "code",
   "execution_count": null,
   "metadata": {},
   "outputs": [],
   "source": []
  },
  {
   "cell_type": "code",
   "execution_count": 41,
   "metadata": {},
   "outputs": [],
   "source": [
    "trending, d_info = get_trends(vids)"
   ]
  },
  {
   "cell_type": "code",
   "execution_count": 53,
   "metadata": {},
   "outputs": [],
   "source": [
    "# trending"
   ]
  },
  {
   "cell_type": "code",
   "execution_count": 43,
   "metadata": {},
   "outputs": [],
   "source": [
    "write_data(trending, d_info)"
   ]
  },
  {
   "cell_type": "code",
   "execution_count": 44,
   "metadata": {},
   "outputs": [],
   "source": [
    "#do_druck()"
   ]
  },
  {
   "cell_type": "code",
   "execution_count": 45,
   "metadata": {},
   "outputs": [],
   "source": [
    "# write_data(trending, d_info)"
   ]
  },
  {
   "cell_type": "code",
   "execution_count": 46,
   "metadata": {},
   "outputs": [],
   "source": [
    "#trending"
   ]
  },
  {
   "cell_type": "code",
   "execution_count": 47,
   "metadata": {},
   "outputs": [],
   "source": [
    "zb = 'Mach mit ihr Schluss!!! 💔- DRUCK -\\xa0Folge 13'\n",
    "zb = 'Die schönste Frau der Welt\\xa0💋-\\xa0DRUCK - Folge 14'\n",
    "zc = 'Wie lang stehst du schon da? 🥤- DRUCK - 65'"
   ]
  },
  {
   "cell_type": "code",
   "execution_count": 48,
   "metadata": {},
   "outputs": [],
   "source": [
    "# extract_title_data(zc)"
   ]
  },
  {
   "cell_type": "code",
   "execution_count": null,
   "metadata": {},
   "outputs": [],
   "source": []
  },
  {
   "cell_type": "code",
   "execution_count": null,
   "metadata": {},
   "outputs": [],
   "source": []
  },
  {
   "cell_type": "code",
   "execution_count": 49,
   "metadata": {},
   "outputs": [],
   "source": [
    "# titlelist, if not in there:\n",
    "# append & add \n",
    "# match Folge \n",
    "# else match Druck"
   ]
  },
  {
   "cell_type": "code",
   "execution_count": 50,
   "metadata": {},
   "outputs": [],
   "source": [
    "#txt = get_site_text()\n",
    "txt = '\"n\"><span class=\"tv-queue-list-icon yt-sprite\"></span></div><h3 class=\"watch-queue-title\">Wiedergabeliste</h3><h3 class=\"tv-queue-title\">Wiedergabeliste</h3><span class=\"tv-queue-details\"></span></div><div class=\"watch-queue-control-bar control-bar-button\"><div class=\"watch-queue-mole-info\"><div class=\"watch-queue-control-bar-icon\"><span class=\"watch-queue-icon yt-sprite\"></span></div><div class=\"watch-queue-title-container\"><span class=\"watch-queue-count\"></span><span class=\"watch-queue-title\">Wiedergabeliste</span><span class=\"tv-queue-title\">Wiedergabeliste</span></div></div>  <span class=\"dark-overflow-action-menu\">\\n    \\n    \\n    <button aria-label=\"Aktionen für die Wiedergabeliste\" class=\"flip control-bar-button yt-uix-button yt-uix-button-dark-overflow-action-menu yt-uix-button-size-default yt-uix-button-has-icon no-icon-markup yt-uix-button-empty\" type=\"button\" aria-expanded=\"false\" aria-haspopup=\"true\" onclick=\";return false;\" ><span class=\"yt-uix-button-arrow yt-sprite\"></span><ul class=\"watch-queue-menu yt-uix-button-menu yt-uix-button-menu-dark-overflow-action-menu hid\" role=\"menu\" aria-haspopup=\"true\"><li role=\"menuitem\"><span onclick=\";return false;\" data-action=\"remove-all\" class=\"watch-queue-menu-choice overflow-menu-choice yt-uix-button-menu-item\" >Alle entfernen</span></li><li role=\"menuitem\"><span onclick=\";return false;\" data-action=\"disconnect\" class=\"watch-queue-menu-choice overflow-menu-choice yt-uix-button-menu-item\" >Beenden</span></li></ul></button>\\n  </span>\\n  <div class=\"watch-queue-controls\">\\n    <button class=\"yt-uix-button yt-uix-button-size-default yt-uix-button-empty yt-uix-button-has-icon control-bar-button prev-watch-queue-button yt-uix-button-opacity yt-uix-tooltip yt-uix-tooltip\" type=\"button\" onclick=\";return false;\" title=\"Vorheriges Video\"><span class=\"yt-uix-button-icon-wrapper\"><span class=\"yt-uix-button-icon yt-uix-button-icon-watch-queue-prev yt-sprite\"></span></span></button>\\n\\n    <button class=\"yt-uix-button yt-uix-button-size-default yt-uix-button-empty yt-uix-button-has-icon control-bar-button play-watch-queue-button yt-uix-button-opacity yt-uix-tooltip yt-uix-tooltip\" type=\"button\" onclick=\";return false;\" title=\"Wiedergeben\"><span class=\"yt-uix-button-icon-wrapper\"><span class=\"yt-uix-button-icon yt-uix-button-icon-watch-queue-play yt-sprite\"></span></span></button>\\n\\n    <button class=\"yt-uix-button yt-uix-button-size-default yt-uix-button-empty yt-uix-button-has-icon control-bar-button pause-watch-queue-button yt-uix-button-opacity yt-uix-tooltip hid yt-uix-tooltip\" type=\"button\" onclick=\";return false;\" title=\"Pausieren\"><span class=\"yt-uix-button-icon-wrapper\"><span class=\"yt-uix-button-icon yt-uix-button-icon-watch-queue-pause yt-sprite\"></span></span></button>\\n\\n    <button class=\"yt-uix-button yt-uix-button-size-default yt-uix-button-empty yt-uix-button-has-icon control-bar-button next-watch-queue-button yt-uix-button-opacity yt-uix-tooltip yt-uix-tooltip\" type=\"button\" onclick=\";return false;\" title=\"Nächstes Video\"><span class=\"yt-uix-button-icon-wrapper\"><span class=\"yt-uix-button-icon yt-uix-button-icon-watch-queue-next yt-sprite\"></span></span></button>\\n  </div>\\n</div><div class=\"autoplay-dismiss-bar fade-out\"><span class=\"autoplay-dismiss-title-label\">Das nächste Video wird gestartet</span><span><button class=\"yt-uix-button yt-uix-button-size-default autoplay-dismiss-button yt-uix-tooltip\" type=\"button\" onclick=\";return false;\" title=\"Anhalten\"><span class=\"yt-uix-button-content\">Anhalten</span></button></span></div></div><div class=\"watch-queue-items-container yt-scrollbar-dark yt-scrollbar\"><div class=\"yt-uix-scroller playlist-videos-list\"><ol class=\"watch-queue-items-list\" data-scroll-action=\"yt.www.watchqueue.loadThumbnails\">  <p class=\"yt-spinner \">\\n        <span title=\"Ladesymbol\" class=\"yt-spinner-img  yt-sprite\"></span>\\n\\n    <span class=\"yt-spinner-message\">\\nWird geladen...\\n    </span>\\n  </p>\\n</ol><div class=\"autoplay-control-container yt-uix-scroller-scroll-unit hid\">  <div class=\"autoplay-control-bar\">\\n    <label class=\"autoplay-label\" for=autoplay-toggle-id></label>\\n    <label class=\"yt-uix-form-input-checkbox-container yt-uix-form-input-container yt-uix-form-input-paper-toggle-container  \"><input class=\"yt-uix-form-input-checkbox\" type=\"checkbox\" id=\"autoplay-toggle-id\"/><div class=\"yt-uix-form-input-paper-toggle-bg yt-uix-form-input-paper-toggle-bar\"></div><div class=\"yt-uix-form-input-paper-toggle-bg yt-uix-form-input-paper-toggle-button\"></div></label>\\n  </div>\\n</div><div class=\"up-next-item-container hid\"></div></div></div></div>  <div class=\"hid\">\\n    <div id=\"watch-queue-title-msg\">\\nWiedergabeliste\\n    </div>\\n\\n    <div id=\"tv-queue-title-msg\">Wiedergabeliste</div>\\n\\n    <div id=\"watch-queue-count-msg\">\\n__count__/__total__\\n    </div>\\n\\n    <div id=\"watch-queue-loading-template\">\\n      <!--\\n          <p class=\"yt-spinner \">\\n        <span title=\"Ladesymbol\" class=\"yt-spinner-img  yt-sprite\"></span>\\n\\n    <span class=\"yt-spinner-message\">\\nWird geladen...\\n    </span>\\n  </p>\\n\\n      -->\\n    </div>\\n  </div>\\n</div></div>\\n    <div id=\"player-playlist\" class=\"  content-alignment    watch-player-playlist  \">\\n          \\n\\n    </div>\\n\\n  </div>\\n\\n  <div class=\"clear\"></div>\\n</div><div id=\"content\" class=\"  content-alignment\" role=\"main\">      <div id=\"placeholder-player\">\\n    <div class=\"player-api player-width player-height\"></div>\\n  </div>\\n\\n  <div id=\"watch7-container\" class=\"\">\\n      <div id=\"player-messages\">\\n          <div class=\"yt-dialog hid mealbar-promo-renderer\">\\n    <div class=\"yt-dialog-base\">\\n      <span class=\"yt-dialog-align\"></span>\\n      <div class=\"yt-dialog-fg\" role=\"dialog\">\\n        <div class=\"yt-dialog-fg-content\">\\n            <div class=\"yt-dialog-header\">\\n                  <h2 class=\"yt-dialog-title\" role=\"alert\">\\n      YouTube Premium\\n  </h2>\\n\\n            </div>\\n          <div class=\"yt-dialog-loading\">\\n              <div class=\"yt-dialog-waiting-content\">\\n      <p class=\"yt-spinner \">\\n        <span title=\"Ladesymbol\" class=\"yt-spinner-img  yt-sprite\"></span>\\n\\n    <span class=\"yt-spinner-message\">\\nWird geladen...\\n    </span>\\n  </p>\\n\\n  </div>\\n\\n          </div>\\n          <div class=\"yt-dialog-content\">\\n                <div class=\"mealbar-promo-message\" tabindex=\"0\">YouTube ganz ohne Werbeanzeigen genießen.</div>\\n\\n          </div>\\n          <div class=\"yt-dialog-working\">\\n              <div class=\"yt-dialog-working-overlay\"></div>\\n  <div class=\"yt-dialog-working-bubble\">\\n    <div class=\"yt-dialog-waiting-content\">\\n        <p class=\"yt-spinner \">\\n        <span title=\"Ladesymbol\" class=\"yt-spinner-img  yt-sprite\"></span>\\n\\n    <span class=\"yt-spinner-message\">\\n        Wird verarbeitet...\\n    </span>\\n  </p>\\n\\n      </div>\\n  </div>\\n\\n          </div>\\n<div class=\"yt-dialog-footer\">      <span class=\"generic-promo-impression-logging\">\\n        <span data-feedback-token=\"AB9zfpIIHBekE6VG_P5cZNEKJ4AsbY12P34-uordmrLHlaxpFGUqeK9Q4JAJ6_jGmkqbepw8HLqo1Gb6x3mbLWo9ziKI4IvJGFEWjG0_BugGEghQn8_6SsDmTsrLyrnlIpVAA9_BgYqPeSO2GM1tqS4jCH7FE7w0TA\" class=\"generic-promo-impression-feedback\"></span>\\n    </span>\\n\\n\\n\\n\\n\\n\\n\\n\\n\\n\\n\\n\\n\\n            <div class=\"service-endpoint-action-container hid\">\\n    </div>\\n\\n\\n      <button class=\"yt-uix-button yt-uix-button-size-default yt-uix-button-blue-text  vve-check yt-uix-servicelink dismiss-menu-choice\" type=\"button\" onclick=\";return false;\" data-action=\"hide\" data-feedback-token=\"AB9zfpJPMVsppXHQBZU_zEnFoqMyn_bLKh3pNUjDYt90MdD8HaOVhTzQN4t6qw-MyMhmsncM8IGHVL2qSA7uZbYeJFX7UIUDV8MtbXc45YJlG6ufmb6yt5O1-bOfmMf7karsYxMoJYfVYTrR5ArAJ53oUWN0LyKlDA\" data-servicelink=\"CAUQ7W8iEwidyIjKtenfAhWUYOAKHYguD5Io-B0\" data-visibility-tracking=\"CAUQ7W8iEwidyIjKtenfAhWUYOAKHYguD5Io-B0\"><span class=\"yt-uix-button-content\">Nein danke</span></button>\\n\\n\\n\\n\\n\\n\\n\\n\\n\\n\\n\\n\\n      <a  href=\"/premium?ybp=Eg9GRXdoYXRfdG9fd2F0Y2g%253D\" class=\"yt-uix-button   vve-check yt-uix-sessionlink yt-uix-button-primary yt-uix-button-size-default\" data-sessionlink=\"itct=CAYQ7G8iEwidyIjKtenfAhWUYOAKHYguD5Io-B0\" data-visibility-tracking=\"CAYQ7G8iEwidyIjKtenfAhWUYOAKHYguD5Io-B0\"><span class=\"yt-uix-button-content\">1 Monat gratis</span></a>\\n</div>        </div>\\n        <div class=\"yt-dialog-focus-trap\" tabindex=\"0\"></div>\\n      </div>\\n    </div>\\n  </div>\\n<div class=\"mealbar-visibility\" data-trigger-condition=\"TRIGGER_CONDITION_POST_AD\" data-lact-th=\"\" data-prompt-del-sec=\"\" data-visibility-tracking=\"CAQQ42kYASITCJ3IiMq16d8CFZRg4AodiC4Pkij4HQ==\"></div>\\n  </div>\\n  <div id=\"watch7-main-container\">\\n    <div id=\"watch7-main\" class=\"clearfix\">\\n      <div id=\"watch7-preview\" class=\"player-width player-height hid\">\\n      </div>\\n      <div id=\"watch7-content\" class=\"watch-main-col \" itemscope itemid=\"\" itemtype=\"http://schema.org/VideoObject\"\\n      >\\n              <link itemprop=\"url\" href=\"https://www.youtube.com/watch?v=YiO-wflbYII\">\\n    <meta itemprop=\"name\" content=\"Die schönste Frau der Welt 💋- DRUCK - Folge 14\">\\n    <meta itemprop=\"description\" content=\"Mehr DRUCK auf Instagram &amp; WhatsApp: Werde Teil unseres WhatsApp Gruppenchats: http://go.funk.net/whatsapp-druck und folge Mia, Hanna, Kiki, Amira, Sam, Jona...\">\\n    <meta itemprop=\"paid\" content=\"False\">\\n\\n      <meta itemprop=\"channelId\" content=\"UCr5zglOqHZAEfCcAx_nw1dQ\">\\n      <meta itemprop=\"videoId\" content=\"YiO-wflbYII\">\\n\\n      <meta itemprop=\"duration\" content=\"PT33M15S\">\\n      <meta itemprop=\"unlisted\" content=\"False\">\\n\\n        <span itemprop=\"author\" itemscope itemtype=\"http://schema.org/Person\">\\n          <link itemprop=\"url\" href=\"http://www.youtube.com/channel/UCr5zglOqHZAEfCcAx_nw1dQ\">\\n        </span>\\n        <span itemprop=\"author\" itemscope itemtype=\"http://schema.org/Person\">\\n          <link itemprop=\"url\" href=\"https://plus.google.com/111455831287349369223\">\\n        </span>\\n\\n        <script type=\"application/ld+json\" >\\n  {\\n    \"@context\": \"http://schema.org\",\\n    \"@type\": \"BreadcrumbList\",\\n    \"itemListElement\": [\\n      {\\n        \"@type\": \"ListItem\",\\n        \"position\": 1,\\n        \"item\": {\\n          \"@id\": \"http:\\\\/\\\\/www.youtube.com\\\\/channel\\\\/UCr5zglOqHZAEfCcAx_nw1dQ\",\\n          \"name\": \"DRUCK - Die Serie\"\\n        }\\n      }\\n    ]\\n  }\\n  </script>\\n\\n\\n    <link itemprop=\"thumbnailUrl\" href=\"https://i.ytimg.com/vi/YiO-wflbYII/maxresdefault.jpg\">\\n    <span itemprop=\"thumbnail\" itemscope itemtype=\"http://schema.org/ImageObject\">\\n      <link itemprop=\"url\" href=\"https://i.ytimg.com/vi/YiO-wflbYII/maxresdefault.jpg\">\\n      <meta itemprop=\"width\" content=\"1280\">\\n      <meta itemprop=\"height\" content=\"720\">\\n    </span>\\n\\n\\n      <meta itemprop=\"isFamilyFriendly\" content=\"True\">\\n      <meta itemprop=\"regionsAllowed\" content=\"DE\">\\n      <meta itemprop=\"interactionCount\" content=\"380990\">\\n      <meta itemprop=\"datePublished\" content=\"2019-01-11\">\\n      <meta itemprop=\"genre\" content=\"Film &amp; Animation\">\\n\\n      <span itemprop=\"publication\" itemscope itemtype=\"http://schema.org/BroadcastEvent\">\\n        <meta itemprop=\"isLiveBroadcast\" content=\"True\">\\n            <meta itemprop=\"startDate\" content=\"2019-01-11T18:14:11+00:00\">\\n            <meta itemprop=\"endDate\" content=\"2019-01-11T18:49:26+00:00\">\\n      </span>\\n\\n          \\n        <div id=\"watch-header\" class=\"yt-card yt-card-has-padding\">\\n      <div id=\"watch7-headline\" class=\"clearfix\">\\n        <span class=\"standalone-collection-badge-renderer-text\"><a href=\"/feed/trending\" class=\" yt-uix-sessionlink      spf-link \" data-sessionlink=\"ei=IHs6XJ24FJTBgQeI3byQCQ\" >#9 auf Trends</a></span>\\n\\n    <div id=\"watch-headline-title\">\\n      <h1 class=\"watch-title-container\" >\\n        \\n\\n\\n  <span id=\"eow-title\" class=\"watch-title\" dir=\"ltr\" title=\"Die schönste Frau der Welt\\xa0💋-\\xa0DRUCK - Folge 14\">\\n    Die schönste Frau der Welt\\xa0💋-\\xa0DRUCK - Folge 14\\n  </span>\\n\\n      </h1>\\n    </div>\\n  </div>\\n\\n    <div id=\"watch7-user-header\" class=\" spf-link \">  <a href=\"/channel/UCr5zglOqHZAEfCcAx_nw1dQ\" class=\"yt-user-photo yt-uix-sessionlink      spf-link \" data-sessionlink=\"itct=CDsQ4TkiEwidyIjKtenfAhWUYOAKHYguD5Io-B0\" >\\n      <span class=\"video-thumb  yt-thumb yt-thumb-48\"\\n    >\\n    <span class=\"yt-thumb-square\">\\n      <span class=\"yt-thumb-clip\">\\n        \\n  <img data-thumb=\"https://yt3.ggpht.com/a-/AAuE7mAVawg8dIdKnrFgYT7vuCWkhvr3duWky2bi9w=s48-c-k-c0xffffffff-no-rj-mo\" height=\"48\" src=\"/yts/img/pixel-vfl3z5WfW.gif\" data-ytimg=\"1\" width=\"48\" alt=\"DRUCK - Die Serie\" onload=\";window.__ytRIL &amp;&amp; __ytRIL(this)\" >\\n\\n        <span class=\"vertical-align\"></span>\\n      </span>\\n    </span>\\n  </span>\\n\\n  </a>\\n  <div class=\"yt-user-info\">\\n    <a href=\"/channel/UCr5zglOqHZAEfCcAx_nw1dQ\" class=\"yt-uix-sessionlink       spf-link \" data-sessionlink=\"itct=CDsQ4TkiEwidyIjKtenfAhWUYOAKHYguD5Io-B0\" >DRUCK - Die Serie</a>\\n  </div>\\n<span id=\"watch7-subscription-container\"><span class=\" yt-uix-button-subscription-container\"><span class=\"unsubscribe-confirmation-overlay-container\">  \\n  <div class=\"yt-uix-overlay \"  data-overlay-style=\"primary\" data-overlay-shape=\"tiny\">\\n    \\n        <div class=\"yt-dialog hid \">\\n    <div class=\"yt-dialog-base\">\\n      <span class=\"yt-dialog-align\"></span>\\n      <div class=\"yt-dialog-fg\" role=\"dialog\">\\n        <div class=\"yt-dialog-fg-content\">\\n          <div class=\"yt-dialog-loading\">\\n              <div class=\"yt-dialog-waiting-content\">\\n      <p class=\"yt-spinner \">\\n        <span title=\"Ladesymbol\" class=\"yt-spinner-img  yt-sprite\"></span>\\n\\n    <span class=\"yt-spinner-message\">\\nWird geladen...\\n    </span>\\n  </p>\\n\\n  </div>\\n\\n          </div>\\n          <div class=\"yt-dialog-content\">\\n              <div class=\"unsubscribe-confirmation-overlay-content-container\">\\n    <div class=\"unsubscribe-confirmation-overlay-content\">\\n      <div class=\"unsubscribe-confirmation-message\">\\n        Abo für DRUCK - Die Serie beenden?\\n      </div>\\n    </div>\\n\\n    <div class=\"yt-uix-overlay-actions\">\\n      <button class=\"yt-uix-button yt-uix-button-size-default yt-uix-button-default yt-uix-overlay-close\" type=\"button\" onclick=\";return false;\"><span class=\"yt-uix-button-content\">Abbrechen</span></button>\\n      <button class=\"yt-uix-button yt-uix-button-size-default yt-uix-button-primary overlay-confirmation-unsubscribe-button yt-uix-overlay-close\" type=\"button\" onclick=\";return false;\"><span class=\"yt-uix-button-content\">Abo beenden</span></button>\\n    </div>\\n  </div>\\n\\n          </div>\\n          <div class=\"yt-dialog-working\">\\n              <div class=\"yt-dialog-working-overlay\"></div>\\n  <div class=\"yt-dialog-working-bubble\">\\n    <div class=\"yt-dialog-waiting-content\">\\n        <p class=\"yt-spinner \">\\n        <span title=\"Ladesymbol\" class=\"yt-spinner-img  yt-sprite\"></span>\\n\\n    <span class=\"yt-spinner-message\">\\n        Wird verarbeitet...\\n    </span>\\n  </p>\\n\\n      </div>\\n  </div>\\n\\n          </div>\\n        </div>\\n        <div class=\"yt-dialog-focus-trap\" tabindex=\"0\"></div>\\n      </div>\\n    </div>\\n  </div>\\n\\n\\n  </div>\\n\\n</span><button class=\"yt-uix-button yt-uix-button-size-default yt-uix-button-subscribe-branded yt-uix-button-has-icon no-icon-markup yt-uix-subscription-button yt-can-buffer yt-uix-servicelink vve-check\" type=\"button\" onclick=\";return false;\" aria-live=\"polite\" aria-busy=\"false\" data-href=\"https://accounts.google.com/ServiceLogin?service=youtube&amp;uilel=3&amp;continue=http%3A%2F%2Fwww.youtube.com%2Fsignin%3Fapp%3Ddesktop%26feature%3Dsubscribe%26action_handle_signin%3Dtrue%26hl%3Dde%26continue_action%3DQUFFLUhqbGwzWUVQakRLUVZ0S2R1bTlzY2ZQX2VtcjdVUXxBQ3Jtc0ttMzYyeEtSai1RR0tBQUhqM1ZTZFJxczV1VHR0TmEyUkc4WTVkRUZLV2V3a3VCcUY3eV9VTTF1TjcwLWxlQXVKZnhhc2dITlZZZjZWekNlU1kyam0tODBNOEdfbnIzMWJGaVowNGNqTDNiem4tWHhOU3R0VUxBRjJ0bmlBdHJZN01IQWFRZkpsM2RaZXNWRFN6d085cGp0MlFLdzhJT3FWZjluVG1qVFk0UC0tT1llOGRyZEFjS3NZeGM2WkFweENCN254RFk%253D%26next%3D%252Fchannel%252FUCr5zglOqHZAEfCcAx_nw1dQ&amp;hl=de&amp;passive=true\" data-channel-external-id=\"UCr5zglOqHZAEfCcAx_nw1dQ\" data-show-unsub-confirm-dialog=\"true\" data-clicktracking=\"itct=CDwQmysiEwidyIjKtenfAhWUYOAKHYguD5Io-B0yBXdhdGNo\" data-servicelink=\"CDwQmysiEwidyIjKtenfAhWUYOAKHYguD5Io-B0yBXdhdGNo\" data-visibility-tracking=\"CDwQmysiEwidyIjKtenfAhWUYOAKHYguD5Io-B0yBXdhdGNo\" data-show-unsub-confirm-time-frame=\"always\" data-style-type=\"branded\" data-subscribed-timestamp=\"0\"><span class=\"yt-uix-button-content\"><span class=\"subscribe-label\" aria-label=\"Abonnieren\">Abonnieren</span><span class=\"subscribed-label\" aria-label=\"Abo beenden\">Abonniert</span><span class=\"unsubscribe-label\" aria-label=\"Abo beenden\">Abo beenden</span></span></button><button class=\"yt-uix-button yt-uix-button-size-default yt-uix-button-default yt-uix-button-empty yt-uix-button-has-icon yt-uix-subscription-preferences-button\" type=\"button\" onclick=\";return false;\" aria-label=\"Abo-Einstellungen\" aria-live=\"polite\" aria-role=\"button\" aria-busy=\"false\" data-channel-external-id=\"UCr5zglOqHZAEfCcAx_nw1dQ\"><span class=\"yt-uix-button-icon-wrapper\"><span class=\"yt-uix-button-icon yt-uix-button-icon-subscription-preferences yt-sprite\"></span></span></button><span class=\"yt-subscription-button-subscriber-count-branded-horizontal yt-subscriber-count\" title=\"187.983\" aria-label=\"187.983\" tabindex=\"0\">187.983</span>  <span class=\"subscription-preferences-overlay-container\">\\n    \\n  <div class=\"yt-uix-overlay \"  data-overlay-style=\"primary\" data-overlay-shape=\"tiny\">\\n    \\n        <div class=\"yt-dialog hid \">\\n    <div class=\"yt-dialog-base\">\\n      <span class=\"yt-dialog-align\"></span>\\n      <div class=\"yt-dialog-fg\" role=\"dialog\">\\n        <div class=\"yt-dialog-fg-content\">\\n          <div class=\"yt-dialog-loading\">\\n              <div class=\"yt-dialog-waiting-content\">\\n      <p class=\"yt-spinner \">\\n        <span title=\"Ladesymbol\" class=\"yt-spinner-img  yt-sprite\"></span>\\n\\n    <span class=\"yt-spinner-message\">\\nWird geladen...\\n    </span>\\n  </p>\\n\\n  </div>\\n\\n          </div>\\n          <div class=\"yt-dialog-content\">\\n              <div class=\"subscription-preferences-overlay-content-container\">\\n    <div class=\"subscription-preferences-overlay-loading \">\\n        <p class=\"yt-spinner \">\\n        <span title=\"Ladesymbol\" class=\"yt-spinner-img  yt-sprite\"></span>\\n\\n    <span class=\"yt-spinner-message\">\\nWird geladen...\\n    </span>\\n  </p>\\n\\n    </div>\\n    <div class=\"subscription-preferences-overlay-content\">\\n    </div>\\n  </div>\\n\\n          </div>\\n          <div class=\"yt-dialog-working\">\\n              <div class=\"yt-dialog-working-overlay\"></div>\\n  <div class=\"yt-dialog-working-bubble\">\\n    <div class=\"yt-dialog-waiting-content\">\\n        <p class=\"yt-spinner \">\\n        <span title=\"Ladesymbol\" class=\"yt-spinner-img  yt-sprite\"></span>\\n\\n    <span class=\"yt-spinner-message\">\\n        Wird verarbeitet...\\n    </span>\\n  </p>\\n\\n      </div>\\n  </div>\\n\\n          </div>\\n        </div>\\n        <div class=\"yt-dialog-focus-trap\" tabindex=\"0\"></div>\\n      </div>\\n    </div>\\n  </div>\\n\\n\\n  </div>\\n\\n  </span>\\n</span></span></div>\\n    <div id=\"watch8-action-buttons\" class=\"watch-action-buttons clearfix\"><div id=\"watch8-secondary-actions\" class=\"watch-secondary-actions yt-uix-button-group\" data-button-toggle-group=\"optional\">    <span class=\"yt-uix-clickcard\">\\n      <button class=\"yt-uix-button yt-uix-button-size-default yt-uix-button-opacity yt-uix-button-has-icon no-icon-markup yt-uix-clickcard-target addto-button pause-resume-autoplay yt-uix-tooltip\" type=\"button\" onclick=\";return false;\" title=\"Hinzufügen\" data-orientation=\"vertical\" data-position=\"bottomleft\"><span class=\"yt-uix-button-content\">Hinzufügen</span></button>\\n        <div class=\"signin-clickcard yt-uix-clickcard-content\">\\n    <h3 class=\"signin-clickcard-header\">Möchtest du dieses Video später noch einmal ansehen?</h3>\\n    <div class=\"signin-clickcard-message\">\\n      Wenn du bei YouTube angemeldet bist, kannst du dieses Video zu einer Playlist hinzufügen.\\n    </div>\\n    <a  href=\"https://accounts.google.com/ServiceLogin?service=youtube&amp;uilel=3&amp;continue=https%3A%2F%2Fwww.youtube.com%2Fsignin%3Fapp%3Ddesktop%26hl%3Dde%26feature%3D__FEATURE__%26action_handle_signin%3Dtrue%26next%3D%252Fwatch%253Fv%253DYiO-wflbYII&amp;hl=de&amp;passive=true\" class=\"yt-uix-button  signin-button yt-uix-sessionlink yt-uix-button-primary yt-uix-button-size-default\" data-sessionlink=\"ei=IHs6XJ24FJTBgQeI3byQCQ\"><span class=\"yt-uix-button-content\">Anmelden</span></a>\\n  </div>\\n\\n    </span>\\n  <button class=\"yt-uix-button yt-uix-button-size-default yt-uix-button-opacity yt-uix-button-has-icon no-icon-markup pause-resume-autoplay action-panel-trigger action-panel-trigger-share   yt-uix-tooltip\" type=\"button\" onclick=\";return false;\" title=\"Teilen\\n\" data-trigger-for=\"action-panel-share\" data-button-toggle=\"true\"><span class=\"yt-uix-button-content\">Teilen\\n</span></button>\\n<div class=\"yt-uix-menu \" >  <button class=\"yt-uix-button yt-uix-button-size-default yt-uix-button-opacity yt-uix-button-has-icon no-icon-markup pause-resume-autoplay yt-uix-menu-trigger yt-uix-tooltip\" type=\"button\" onclick=\";return false;\" title=\"Mehr Aktionen\" aria-pressed=\"false\" aria-label=\"Action menu.\" aria-haspopup=\"true\" role=\"button\" id=\"action-panel-overflow-button\"><span class=\"yt-uix-button-content\">Mehr</span></button>\\n<div class=\"yt-uix-menu-content yt-ui-menu-content yt-uix-menu-content-hidden\" role=\"menu\"><ul id=\"action-panel-overflow-menu\">  <li>\\n      <span class=\"yt-uix-clickcard\" data-card-class=report-card>\\n          <button type=\"button\" class=\"yt-ui-menu-item has-icon action-panel-trigger action-panel-trigger-report report-button yt-uix-clickcard-target\"\\n data-orientation=\"horizontal\" data-position=\"topright\">\\n    <span class=\"yt-ui-menu-item-label\">Melden</span>\\n  </button>\\n\\n          <div class=\"signin-clickcard yt-uix-clickcard-content\">\\n    <h3 class=\"signin-clickcard-header\">Möchtest du dieses Video melden?</h3>\\n    <div class=\"signin-clickcard-message\">\\n \"'"
   ]
  },
  {
   "cell_type": "code",
   "execution_count": 51,
   "metadata": {},
   "outputs": [],
   "source": [
    "# a = get_trend(txt)#"
   ]
  },
  {
   "cell_type": "code",
   "execution_count": 52,
   "metadata": {},
   "outputs": [],
   "source": [
    "# a"
   ]
  }
 ],
 "metadata": {
  "kernelspec": {
   "display_name": "Python 3",
   "language": "python",
   "name": "python3"
  },
  "language_info": {
   "codemirror_mode": {
    "name": "ipython",
    "version": 3
   },
   "file_extension": ".py",
   "mimetype": "text/x-python",
   "name": "python",
   "nbconvert_exporter": "python",
   "pygments_lexer": "ipython3",
   "version": "3.7.1"
  }
 },
 "nbformat": 4,
 "nbformat_minor": 2
}
