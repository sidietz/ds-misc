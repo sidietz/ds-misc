{
 "cells": [
  {
   "cell_type": "code",
   "execution_count": 1,
   "metadata": {},
   "outputs": [],
   "source": [
    "import pandas as pd\n",
    "import requests as rq\n",
    "from lxml import html\n",
    "import numpy as np\n",
    "from functools import reduce"
   ]
  },
  {
   "cell_type": "code",
   "execution_count": 2,
   "metadata": {},
   "outputs": [],
   "source": [
    "def check_state(state):\n",
    "    if state == \"(noch) nicht behandelt\":\n",
    "        return False\n",
    "    else:\n",
    "        return True"
   ]
  },
  {
   "cell_type": "code",
   "execution_count": 3,
   "metadata": {},
   "outputs": [],
   "source": [
    "stats ='//*[@id=\"antraege\"]/li[position()>1]/ul/li/h4/span[@data-status]/@data-status'\n",
    "appls ='//*[@id=\"antraege\"]/li[position()>1]/ul/li/h4/a/text()'\n",
    "j18 = \"https://juso-buko.de/veranstaltungen/juso-bundeskongress-30-november-2-dezember-2018/\"\n",
    "j17 = \"https://juso-buko.de/veranstaltungen/juso-bundeskongress-24-26-november-2017/\"\n",
    "URL_LIST = [j17, j18]"
   ]
  },
  {
   "cell_type": "code",
   "execution_count": 4,
   "metadata": {},
   "outputs": [],
   "source": [
    "def get_site(url):\n",
    "    r = rq.get(url)\n",
    "    year = url[-5:-1]\n",
    "    url_string = bytes(r.text, 'iso-8859-1').decode('utf-8')\n",
    "    tree = html.document_fromstring(url_string)\n",
    "    return year, tree"
   ]
  },
  {
   "cell_type": "code",
   "execution_count": 5,
   "metadata": {},
   "outputs": [],
   "source": [
    "def forge_dataframe(year, tree):\n",
    "    zy = tree.xpath(stats)\n",
    "    zx = tree.xpath(appls)\n",
    "    za = list(map(lambda x: x.split(\" \", 1)[0], zx))\n",
    "    zb = list(map(lambda x: \"\".join(x.split(\" \", 1)[1]), zx))\n",
    "    a = pd.DataFrame(np.column_stack([za, zb, zy]), columns=['id', 'title', 'status'])\n",
    "    a[\"year\"] = year\n",
    "    return a"
   ]
  },
  {
   "cell_type": "code",
   "execution_count": 6,
   "metadata": {},
   "outputs": [],
   "source": [
    "def get_data(url_list):\n",
    "    df_list = []\n",
    "    for url in url_list:\n",
    "        year, tree = get_site(url)\n",
    "        df_list.append(forge_dataframe(year, tree))\n",
    "    df = pd.concat(df_list)\n",
    "    return df"
   ]
  },
  {
   "cell_type": "code",
   "execution_count": 7,
   "metadata": {},
   "outputs": [],
   "source": [
    "def perc_sum(a, b, c):\n",
    "    return (a + b) / c"
   ]
  },
  {
   "cell_type": "code",
   "execution_count": 8,
   "metadata": {},
   "outputs": [],
   "source": [
    "df = get_data(URL_LIST)"
   ]
  },
  {
   "cell_type": "code",
   "execution_count": 9,
   "metadata": {},
   "outputs": [],
   "source": [
    "grp = df.groupby([\"year\", \"status\"]).count()\n",
    "ac = grp.reset_index()\n",
    "ad = ac.pivot(index='year', columns='status', values='id')\n",
    "af = ad.rename(columns={\"(noch) nicht behandelt\": \"notyet\", \"angenommen\": \"yes\", \"geändert angenommen\": \"changed\"})"
   ]
  },
  {
   "cell_type": "code",
   "execution_count": 10,
   "metadata": {},
   "outputs": [],
   "source": [
    "af[\"total\"] = af[[\"notyet\", \"yes\", \"changed\"]].sum(axis=1)\n",
    "ag = af.reset_index()"
   ]
  },
  {
   "cell_type": "code",
   "execution_count": 11,
   "metadata": {},
   "outputs": [],
   "source": [
    "ag[\"done\"] = np.vectorize(perc_sum)(ag['yes'], ag['changed'], ag[\"total\"])\n",
    "ag[\"notdone\"] = ag['notyet']/ ag[\"total\"]"
   ]
  },
  {
   "cell_type": "code",
   "execution_count": 12,
   "metadata": {},
   "outputs": [
    {
     "data": {
      "text/html": [
       "<div>\n",
       "<style scoped>\n",
       "    .dataframe tbody tr th:only-of-type {\n",
       "        vertical-align: middle;\n",
       "    }\n",
       "\n",
       "    .dataframe tbody tr th {\n",
       "        vertical-align: top;\n",
       "    }\n",
       "\n",
       "    .dataframe thead th {\n",
       "        text-align: right;\n",
       "    }\n",
       "</style>\n",
       "<table border=\"1\" class=\"dataframe\">\n",
       "  <thead>\n",
       "    <tr style=\"text-align: right;\">\n",
       "      <th>status</th>\n",
       "      <th>year</th>\n",
       "      <th>notyet</th>\n",
       "      <th>yes</th>\n",
       "      <th>changed</th>\n",
       "      <th>total</th>\n",
       "      <th>done</th>\n",
       "      <th>notdone</th>\n",
       "    </tr>\n",
       "  </thead>\n",
       "  <tbody>\n",
       "    <tr>\n",
       "      <th>0</th>\n",
       "      <td>2017</td>\n",
       "      <td>161</td>\n",
       "      <td>9</td>\n",
       "      <td>14</td>\n",
       "      <td>184</td>\n",
       "      <td>0.125000</td>\n",
       "      <td>0.875000</td>\n",
       "    </tr>\n",
       "    <tr>\n",
       "      <th>1</th>\n",
       "      <td>2018</td>\n",
       "      <td>132</td>\n",
       "      <td>6</td>\n",
       "      <td>26</td>\n",
       "      <td>164</td>\n",
       "      <td>0.195122</td>\n",
       "      <td>0.804878</td>\n",
       "    </tr>\n",
       "  </tbody>\n",
       "</table>\n",
       "</div>"
      ],
      "text/plain": [
       "status  year  notyet  yes  changed  total      done   notdone\n",
       "0       2017     161    9       14    184  0.125000  0.875000\n",
       "1       2018     132    6       26    164  0.195122  0.804878"
      ]
     },
     "execution_count": 12,
     "metadata": {},
     "output_type": "execute_result"
    }
   ],
   "source": [
    "ag"
   ]
  },
  {
   "cell_type": "code",
   "execution_count": 13,
   "metadata": {},
   "outputs": [],
   "source": [
    "antrags = df.loc[:]"
   ]
  },
  {
   "cell_type": "code",
   "execution_count": 14,
   "metadata": {},
   "outputs": [],
   "source": [
    "antrags[\"state\"] = antrags[\"status\"].apply(check_state)"
   ]
  },
  {
   "cell_type": "code",
   "execution_count": 15,
   "metadata": {},
   "outputs": [],
   "source": [
    "a = antrags.groupby(\"status\").count().reset_index()"
   ]
  },
  {
   "cell_type": "code",
   "execution_count": 16,
   "metadata": {},
   "outputs": [],
   "source": [
    "b = list(a[\"id\"])"
   ]
  },
  {
   "cell_type": "code",
   "execution_count": 17,
   "metadata": {},
   "outputs": [],
   "source": [
    "tot = reduce(lambda x, y: x+y, b)"
   ]
  },
  {
   "cell_type": "code",
   "execution_count": 18,
   "metadata": {},
   "outputs": [],
   "source": [
    "per = list(map(lambda x: x[0] / x[1], list(zip(b, [tot, tot, tot]))))"
   ]
  },
  {
   "cell_type": "code",
   "execution_count": 19,
   "metadata": {},
   "outputs": [
    {
     "data": {
      "text/plain": [
       "[84.19540229885058, 4.310344827586207, 11.494252873563218]"
      ]
     },
     "execution_count": 19,
     "metadata": {},
     "output_type": "execute_result"
    }
   ],
   "source": [
    "list(map(lambda x: x*100, per))"
   ]
  },
  {
   "cell_type": "code",
   "execution_count": 20,
   "metadata": {},
   "outputs": [],
   "source": [
    "non, yes, changed = b[0], b[1], b[2]"
   ]
  },
  {
   "cell_type": "code",
   "execution_count": 22,
   "metadata": {},
   "outputs": [],
   "source": [
    "r = rq.get(URL_LIST[0])\n",
    "url_string = bytes(r.text, 'iso-8859-1').decode('utf-8')\n",
    "tree = html.document_fromstring(url_string)"
   ]
  },
  {
   "cell_type": "code",
   "execution_count": null,
   "metadata": {},
   "outputs": [],
   "source": []
  }
 ],
 "metadata": {
  "kernelspec": {
   "display_name": "Python 3",
   "language": "python",
   "name": "python3"
  },
  "language_info": {
   "codemirror_mode": {
    "name": "ipython",
    "version": 3
   },
   "file_extension": ".py",
   "mimetype": "text/x-python",
   "name": "python",
   "nbconvert_exporter": "python",
   "pygments_lexer": "ipython3",
   "version": "3.7.1"
  }
 },
 "nbformat": 4,
 "nbformat_minor": 2
}
